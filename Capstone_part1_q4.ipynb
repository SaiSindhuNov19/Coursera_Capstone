{
 "cells": [
  {
   "cell_type": "markdown",
   "metadata": {},
   "source": [
    "# Data frame with latitude and longitude"
   ]
  },
  {
   "cell_type": "markdown",
   "metadata": {},
   "source": [
    "Importing the required libraries"
   ]
  },
  {
   "cell_type": "code",
   "execution_count": 1,
   "metadata": {},
   "outputs": [
    {
     "name": "stderr",
     "output_type": "stream",
     "text": [
      "C:\\Users\\Sindhu\\anaconda3\\lib\\site-packages\\sklearn\\utils\\deprecation.py:144: FutureWarning: The sklearn.datasets.samples_generator module is  deprecated in version 0.22 and will be removed in version 0.24. The corresponding classes / functions should instead be imported from sklearn.datasets. Anything that cannot be imported from sklearn.datasets is now part of the private API.\n",
      "  warnings.warn(message, FutureWarning)\n"
     ]
    }
   ],
   "source": [
    "import random # library for random number generation\n",
    "import numpy as np # library for vectorized computation\n",
    "import pandas as pd # library to process data as dataframes\n",
    "import matplotlib.pyplot as plt\n",
    "from sklearn.cluster import KMeans \n",
    "from sklearn.datasets.samples_generator import make_blobs\n",
    "\n",
    "import re\n",
    "import requests\n",
    "from bs4 import BeautifulSoup\n"
   ]
  },
  {
   "cell_type": "markdown",
   "metadata": {},
   "source": [
    "Cleaning the data without Nan vales or empty cells or duplicates"
   ]
  },
  {
   "cell_type": "code",
   "execution_count": 3,
   "metadata": {},
   "outputs": [
    {
     "name": "stdout",
     "output_type": "stream",
     "text": [
      "    Postalcode           Borough  \\\n",
      "2          M3A        North York   \n",
      "3          M4A        North York   \n",
      "4          M5A  Downtown Toronto   \n",
      "5          M6A        North York   \n",
      "6          M7A  Downtown Toronto   \n",
      "..         ...               ...   \n",
      "160        M8X         Etobicoke   \n",
      "165        M4Y  Downtown Toronto   \n",
      "168        M7Y      East Toronto   \n",
      "169        M8Y         Etobicoke   \n",
      "178        M8Z         Etobicoke   \n",
      "\n",
      "                                          Neighborhood  \n",
      "2                                            Parkwoods  \n",
      "3                                     Victoria Village  \n",
      "4                           Regent Park , Harbourfront  \n",
      "5                    Lawrence Manor , Lawrence Heights  \n",
      "6         Queen's Park , Ontario Provincial Government  \n",
      "..                                                 ...  \n",
      "160    The Kingsway , Montgomery Road , Old Mill North  \n",
      "165                               Church and Wellesley  \n",
      "168              Business reply mail Processing Centre  \n",
      "169  Old Mill South , King's Mill Park , Sunnylea ,...  \n",
      "178  Mimico NW , The Queensway West , South of Bloo...  \n",
      "\n",
      "[103 rows x 3 columns]\n"
     ]
    }
   ],
   "source": [
    "#downloading the data using BeautifulSoup \n",
    "res = requests.get(\"https://en.wikipedia.org/wiki/List_of_postal_codes_of_Canada:_M\")\n",
    "soup = BeautifulSoup(res.content,'lxml')\n",
    "table = soup.find_all('table')[0] \n",
    "df = pd.read_html(str(table))\n",
    "df1 = pd.DataFrame(df[0])\n",
    "#cleaning the data and removing not assigned borough\n",
    "newdf = df1.query('Borough!= \"Not assigned\"')\n",
    "#preparing comma seperated neighborhoods as mentioned\n",
    "rep = newdf.replace({'Neighborhood': {'/': ',' }}, regex=True)\n",
    "print(rep)"
   ]
  },
  {
   "cell_type": "markdown",
   "metadata": {},
   "source": [
    "reading the latitude and longitude values from csv file provided"
   ]
  },
  {
   "cell_type": "code",
   "execution_count": 7,
   "metadata": {},
   "outputs": [
    {
     "name": "stdout",
     "output_type": "stream",
     "text": [
      "    Postal Code   Latitude  Longitude\n",
      "0           M1B  43.806686 -79.194353\n",
      "1           M1C  43.784535 -79.160497\n",
      "2           M1E  43.763573 -79.188711\n",
      "3           M1G  43.770992 -79.216917\n",
      "4           M1H  43.773136 -79.239476\n",
      "..          ...        ...        ...\n",
      "98          M9N  43.706876 -79.518188\n",
      "99          M9P  43.696319 -79.532242\n",
      "100         M9R  43.688905 -79.554724\n",
      "101         M9V  43.739416 -79.588437\n",
      "102         M9W  43.706748 -79.594054\n",
      "\n",
      "[103 rows x 3 columns]\n"
     ]
    }
   ],
   "source": [
    "\n",
    "cord = pd.read_csv(\"Geospatial_Coordinates.csv\")\n",
    "print(cord)"
   ]
  },
  {
   "cell_type": "markdown",
   "metadata": {},
   "source": [
    "create the dataframe with postal code, borough, Neighborhood, Latitude and Longitude values"
   ]
  },
  {
   "cell_type": "code",
   "execution_count": 13,
   "metadata": {},
   "outputs": [
    {
     "name": "stdout",
     "output_type": "stream",
     "text": [
      "  Postalcode           Borough                                  Neighborhood  \\\n",
      "0        M3A        North York                                     Parkwoods   \n",
      "1        M4A        North York                              Victoria Village   \n",
      "2        M5A  Downtown Toronto                    Regent Park , Harbourfront   \n",
      "3        M6A        North York             Lawrence Manor , Lawrence Heights   \n",
      "4        M7A  Downtown Toronto  Queen's Park , Ontario Provincial Government   \n",
      "\n",
      "  Postal Code   Latitude  Longitude  \n",
      "0         M3A  43.753259 -79.329656  \n",
      "1         M4A  43.725882 -79.315572  \n",
      "2         M5A  43.654260 -79.360636  \n",
      "3         M6A  43.718518 -79.464763  \n",
      "4         M7A  43.662301 -79.389494  \n"
     ]
    }
   ],
   "source": [
    "merged_df = pd.merge(rep, cord, left_on = 'Postalcode', right_on = 'Postal Code', how = 'inner')\n",
    "print(merged_df.head())"
   ]
  },
  {
   "cell_type": "code",
   "execution_count": 15,
   "metadata": {},
   "outputs": [
    {
     "data": {
      "text/plain": [
       "(103, 6)"
      ]
     },
     "execution_count": 15,
     "metadata": {},
     "output_type": "execute_result"
    }
   ],
   "source": [
    "merged_df.shape"
   ]
  },
  {
   "cell_type": "code",
   "execution_count": null,
   "metadata": {},
   "outputs": [],
   "source": []
  }
 ],
 "metadata": {
  "kernelspec": {
   "display_name": "Python 3",
   "language": "python",
   "name": "python3"
  },
  "language_info": {
   "codemirror_mode": {
    "name": "ipython",
    "version": 3
   },
   "file_extension": ".py",
   "mimetype": "text/x-python",
   "name": "python",
   "nbconvert_exporter": "python",
   "pygments_lexer": "ipython3",
   "version": "3.7.6"
  }
 },
 "nbformat": 4,
 "nbformat_minor": 4
}
