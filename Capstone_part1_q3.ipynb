{
 "cells": [
  {
   "cell_type": "markdown",
   "metadata": {},
   "source": [
    "# create the above dataframe "
   ]
  },
  {
   "cell_type": "markdown",
   "metadata": {},
   "source": [
    "Importing the required libraries"
   ]
  },
  {
   "cell_type": "code",
   "execution_count": 2,
   "metadata": {},
   "outputs": [],
   "source": [
    "import random # library for random number generation\n",
    "import numpy as np # library for vectorized computation\n",
    "import pandas as pd # library to process data as dataframes\n",
    "import matplotlib.pyplot as plt\n",
    "from sklearn.cluster import KMeans \n",
    "from sklearn.datasets.samples_generator import make_blobs\n",
    "\n",
    "import re\n",
    "import requests\n",
    "from bs4 import BeautifulSoup\n",
    "\n"
   ]
  },
  {
   "cell_type": "markdown",
   "metadata": {},
   "source": [
    "Converting the downloaded data into a data frame "
   ]
  },
  {
   "cell_type": "code",
   "execution_count": 5,
   "metadata": {},
   "outputs": [
    {
     "name": "stdout",
     "output_type": "stream",
     "text": [
      "    Postalcode           Borough  \\\n",
      "2          M3A        North York   \n",
      "3          M4A        North York   \n",
      "4          M5A  Downtown Toronto   \n",
      "5          M6A        North York   \n",
      "6          M7A  Downtown Toronto   \n",
      "..         ...               ...   \n",
      "160        M8X         Etobicoke   \n",
      "165        M4Y  Downtown Toronto   \n",
      "168        M7Y      East Toronto   \n",
      "169        M8Y         Etobicoke   \n",
      "178        M8Z         Etobicoke   \n",
      "\n",
      "                                          Neighborhood  \n",
      "2                                            Parkwoods  \n",
      "3                                     Victoria Village  \n",
      "4                           Regent Park , Harbourfront  \n",
      "5                    Lawrence Manor , Lawrence Heights  \n",
      "6         Queen's Park , Ontario Provincial Government  \n",
      "..                                                 ...  \n",
      "160    The Kingsway , Montgomery Road , Old Mill North  \n",
      "165                               Church and Wellesley  \n",
      "168              Business reply mail Processing Centre  \n",
      "169  Old Mill South , King's Mill Park , Sunnylea ,...  \n",
      "178  Mimico NW , The Queensway West , South of Bloo...  \n",
      "\n",
      "[103 rows x 3 columns]\n"
     ]
    }
   ],
   "source": [
    "res = requests.get(\"https://en.wikipedia.org/wiki/List_of_postal_codes_of_Canada:_M\")\n",
    "soup = BeautifulSoup(res.content,'lxml')\n",
    "table = soup.find_all('table')[0] \n",
    "df = pd.read_html(str(table))\n",
    "df1 = pd.DataFrame(df[0])\n",
    "#remove the borough with not assigned values (cleaning data)\n",
    "newdf = df1.query('Borough!= \"Not assigned\"')\n",
    "#downloaded data postal code is not  listed  twice instead listed once with \"/\" in between the 2 neighbors hence converted into \",\" seperated values\n",
    "rep = newdf.replace({'Neighborhood': {'/': ',' }}, regex=True)\n",
    "print(rep)"
   ]
  },
  {
   "cell_type": "markdown",
   "metadata": {},
   "source": [
    "removing the cell which has a borough but a Not assigned neighborhood"
   ]
  },
  {
   "cell_type": "code",
   "execution_count": 6,
   "metadata": {},
   "outputs": [
    {
     "name": "stdout",
     "output_type": "stream",
     "text": [
      "    Postalcode           Borough  \\\n",
      "2          M3A        North York   \n",
      "3          M4A        North York   \n",
      "4          M5A  Downtown Toronto   \n",
      "5          M6A        North York   \n",
      "6          M7A  Downtown Toronto   \n",
      "..         ...               ...   \n",
      "160        M8X         Etobicoke   \n",
      "165        M4Y  Downtown Toronto   \n",
      "168        M7Y      East Toronto   \n",
      "169        M8Y         Etobicoke   \n",
      "178        M8Z         Etobicoke   \n",
      "\n",
      "                                          Neighborhood  \n",
      "2                                            Parkwoods  \n",
      "3                                     Victoria Village  \n",
      "4                           Regent Park , Harbourfront  \n",
      "5                    Lawrence Manor , Lawrence Heights  \n",
      "6         Queen's Park , Ontario Provincial Government  \n",
      "..                                                 ...  \n",
      "160    The Kingsway , Montgomery Road , Old Mill North  \n",
      "165                               Church and Wellesley  \n",
      "168              Business reply mail Processing Centre  \n",
      "169  Old Mill South , King's Mill Park , Sunnylea ,...  \n",
      "178  Mimico NW , The Queensway West , South of Bloo...  \n",
      "\n",
      "[103 rows x 3 columns]\n"
     ]
    }
   ],
   "source": [
    "#There are no cells which meet the above criteria from the wiki page rechecked manually\n",
    "nei_un = rep.query('Neighborhood != \" \"')\n",
    "print(nei_un)"
   ]
  },
  {
   "cell_type": "markdown",
   "metadata": {},
   "source": [
    "used the .shape method to print the number of rows of dataframe."
   ]
  },
  {
   "cell_type": "code",
   "execution_count": 7,
   "metadata": {},
   "outputs": [
    {
     "data": {
      "text/plain": [
       "(103, 3)"
      ]
     },
     "execution_count": 7,
     "metadata": {},
     "output_type": "execute_result"
    }
   ],
   "source": [
    "nei_un.shape"
   ]
  },
  {
   "cell_type": "code",
   "execution_count": null,
   "metadata": {},
   "outputs": [],
   "source": []
  }
 ],
 "metadata": {
  "kernelspec": {
   "display_name": "Python 3",
   "language": "python",
   "name": "python3"
  },
  "language_info": {
   "codemirror_mode": {
    "name": "ipython",
    "version": 3
   },
   "file_extension": ".py",
   "mimetype": "text/x-python",
   "name": "python",
   "nbconvert_exporter": "python",
   "pygments_lexer": "ipython3",
   "version": "3.7.6"
  }
 },
 "nbformat": 4,
 "nbformat_minor": 4
}
